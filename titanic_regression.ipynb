{
 "cells": [
  {
   "cell_type": "markdown",
   "id": "ba4bac41",
   "metadata": {},
   "source": [
    "## 1. Import data"
   ]
  },
  {
   "cell_type": "code",
   "execution_count": 1,
   "id": "4fcd71d8",
   "metadata": {},
   "outputs": [],
   "source": [
    "import os\n",
    "import urllib.request\n",
    "\n",
    "TITANIC_PATH = os.path.join(\"datasets\", \"titanic\")\n",
    "DOWNLOAD_URL = \"https://raw.githubusercontent.com/ageron/handson-ml2/master/datasets/titanic/\"\n",
    "\n",
    "def fetch_titanic_data(url=DOWNLOAD_URL, path=TITANIC_PATH):\n",
    "    if not os.path.isdir(path):\n",
    "        os.makedirs(path)\n",
    "    for filename in (\"train.csv\", \"test.csv\"):\n",
    "        filepath = os.path.join(path, filename)\n",
    "        if not os.path.isfile(filepath):\n",
    "            print(\"Downloading\", filename)\n",
    "            urllib.request.urlretrieve(url + filename, filepath)\n",
    "\n",
    "fetch_titanic_data()    \n"
   ]
  },
  {
   "cell_type": "code",
   "execution_count": 2,
   "id": "45c0cf79",
   "metadata": {},
   "outputs": [
    {
     "data": {
      "text/plain": [
       "0.3838383838383838"
      ]
     },
     "execution_count": 2,
     "metadata": {},
     "output_type": "execute_result"
    }
   ],
   "source": [
    "import pandas as pd\n",
    "import numpy as np\n",
    "\n",
    "def load_titanic_data(filename, titanic_path=TITANIC_PATH):\n",
    "    csv_path = os.path.join(titanic_path, filename)\n",
    "    return pd.read_csv(csv_path)\n",
    "\n",
    "titanic_train = load_titanic_data(\"train.csv\")\n",
    "titanic_test = load_titanic_data(\"test.csv\")\n",
    "\n",
    "titanic_train_labels = titanic_train[\"Survived\"].values\n",
    "titanic_train_labels.mean()"
   ]
  },
  {
   "cell_type": "markdown",
   "id": "1c6cf66c",
   "metadata": {},
   "source": [
    "Approximately 38% of the passengers in the training set survived"
   ]
  },
  {
   "cell_type": "markdown",
   "id": "8a3b6329",
   "metadata": {},
   "source": [
    "## 2. Exploration of training data"
   ]
  },
  {
   "cell_type": "code",
   "execution_count": 3,
   "id": "fa4256e9",
   "metadata": {},
   "outputs": [],
   "source": [
    "titanic_train_explore = titanic_train.copy()"
   ]
  },
  {
   "cell_type": "code",
   "execution_count": 4,
   "id": "e15a6392",
   "metadata": {},
   "outputs": [
    {
     "data": {
      "text/plain": [
       "(891, 12)"
      ]
     },
     "execution_count": 4,
     "metadata": {},
     "output_type": "execute_result"
    }
   ],
   "source": [
    "titanic_train_explore.shape"
   ]
  },
  {
   "cell_type": "code",
   "execution_count": 5,
   "id": "4c8b7e1b",
   "metadata": {},
   "outputs": [
    {
     "data": {
      "text/plain": [
       "Index(['PassengerId', 'Survived', 'Pclass', 'Name', 'Sex', 'Age', 'SibSp',\n",
       "       'Parch', 'Ticket', 'Fare', 'Cabin', 'Embarked'],\n",
       "      dtype='object')"
      ]
     },
     "execution_count": 5,
     "metadata": {},
     "output_type": "execute_result"
    }
   ],
   "source": [
    "titanic_train_explore.columns"
   ]
  },
  {
   "cell_type": "code",
   "execution_count": 6,
   "id": "7441e8b5",
   "metadata": {},
   "outputs": [
    {
     "data": {
      "text/plain": [
       "PassengerId    False\n",
       "Survived       False\n",
       "Pclass         False\n",
       "Name           False\n",
       "Sex            False\n",
       "Age             True\n",
       "SibSp          False\n",
       "Parch          False\n",
       "Ticket         False\n",
       "Fare           False\n",
       "Cabin           True\n",
       "Embarked        True\n",
       "dtype: bool"
      ]
     },
     "execution_count": 6,
     "metadata": {},
     "output_type": "execute_result"
    }
   ],
   "source": [
    "titanic_train_explore.isnull().any()"
   ]
  },
  {
   "cell_type": "markdown",
   "id": "ccce29a4",
   "metadata": {},
   "source": [
    "\"Age\", \"Cabin\" and \"Embarked\" variable contain null values"
   ]
  },
  {
   "cell_type": "code",
   "execution_count": 7,
   "id": "8b93984c",
   "metadata": {},
   "outputs": [
    {
     "name": "stdout",
     "output_type": "stream",
     "text": [
      "% of null values\n",
      "Embarked: 0%\n",
      "Cabin: 77%\n",
      "Age: 20%\n"
     ]
    }
   ],
   "source": [
    "print(\"% of null values\")\n",
    "print(\"Embarked: {}%\".format(round(((len(titanic_train_explore[titanic_train_explore[\"Embarked\"].isna() == True]))/(len(titanic_train_explore)) * 100)),3))\n",
    "print(\"Cabin: {}%\".format(round(((len(titanic_train_explore[titanic_train_explore[\"Cabin\"].isna() == True]))/(len(titanic_train_explore)) * 100)),2))\n",
    "print(\"Age: {}%\".format(round(((len(titanic_train_explore[titanic_train_explore[\"Age\"].isna() == True]))/(len(titanic_train_explore)) * 100)),2))"
   ]
  },
  {
   "cell_type": "markdown",
   "id": "a11785fd",
   "metadata": {},
   "source": [
    "\"Cabin\" has 77% null values, while \"Age\" and \"Embarked\" have 22% and 0% null values respectively <br>\n",
    "\"Age\" is a numerical variable and the null values will have to be imputed via some strategy <br>\n",
    "\"Embarked\" and \"Cabin\" are categorical variables, however, \"Embarked\" will likely be imputed via some strategy due to it only having 2 null values"
   ]
  },
  {
   "cell_type": "markdown",
   "id": "22b12b78",
   "metadata": {},
   "source": [
    "### 2a) Embarked"
   ]
  },
  {
   "cell_type": "code",
   "execution_count": 8,
   "id": "91176ebf",
   "metadata": {},
   "outputs": [
    {
     "data": {
      "text/plain": [
       "<AxesSubplot:xlabel='Embarked'>"
      ]
     },
     "execution_count": 8,
     "metadata": {},
     "output_type": "execute_result"
    },
    {
     "data": {
      "image/png": "[encoded data removed]",
      "text/plain": [
       "<Figure size 432x288 with 1 Axes>"
      ]
     },
     "metadata": {
      "needs_background": "light"
     },
     "output_type": "display_data"
    }
   ],
   "source": [
    "pd.DataFrame(titanic_train_explore.groupby([\"Embarked\"]).sum()[\"Survived\"]).plot(kind = \"bar\")"
   ]
  },
  {
   "cell_type": "markdown",
   "id": "f03395c1",
   "metadata": {},
   "source": [
    "### 2b) Sex"
   ]
  },
  {
   "cell_type": "code",
   "execution_count": 9,
   "id": "e798148d",
   "metadata": {},
   "outputs": [
    {
     "data": {
      "text/plain": [
       "male      577\n",
       "female    314\n",
       "Name: Sex, dtype: int64"
      ]
     },
     "execution_count": 9,
     "metadata": {},
     "output_type": "execute_result"
    }
   ],
   "source": [
    "titanic_train_explore[\"Sex\"].value_counts()"
   ]
  },
  {
   "cell_type": "code",
   "execution_count": 10,
   "id": "7958f491",
   "metadata": {},
   "outputs": [
    {
     "data": {
      "text/plain": [
       "<AxesSubplot:xlabel='Sex'>"
      ]
     },
     "execution_count": 10,
     "metadata": {},
     "output_type": "execute_result"
    },
    {
     "data": {
      "image/png": "[encoded data removed]",
      "text/plain": [
       "<Figure size 432x288 with 1 Axes>"
      ]
     },
     "metadata": {
      "needs_background": "light"
     },
     "output_type": "display_data"
    }
   ],
   "source": [
    "pd.DataFrame(titanic_train_explore.groupby([\"Sex\"]).sum()[\"Survived\"]).plot(kind = \"bar\")"
   ]
  },
  {
   "cell_type": "markdown",
   "id": "a71a2860",
   "metadata": {},
   "source": [
    "### 2c) Pclass"
   ]
  },
  {
   "cell_type": "code",
   "execution_count": 11,
   "id": "47135c5f",
   "metadata": {},
   "outputs": [
    {
     "data": {
      "text/plain": [
       "3    491\n",
       "1    216\n",
       "2    184\n",
       "Name: Pclass, dtype: int64"
      ]
     },
     "execution_count": 11,
     "metadata": {},
     "output_type": "execute_result"
    }
   ],
   "source": [
    "titanic_train_explore[\"Pclass\"].value_counts()"
   ]
  },
  {
   "cell_type": "code",
   "execution_count": 12,
   "id": "2e2b1c7d",
   "metadata": {},
   "outputs": [
    {
     "data": {
      "text/plain": [
       "<AxesSubplot:xlabel='Pclass'>"
      ]
     },
     "execution_count": 12,
     "metadata": {},
     "output_type": "execute_result"
    },
    {
     "data": {
      "image/png": "[encoded data removed]",
      "text/plain": [
       "<Figure size 432x288 with 1 Axes>"
      ]
     },
     "metadata": {
      "needs_background": "light"
     },
     "output_type": "display_data"
    }
   ],
   "source": [
    "pd.DataFrame(titanic_train_explore.groupby([\"Pclass\"]).sum()[\"Survived\"]).plot(kind = \"bar\")"
   ]
  },
  {
   "cell_type": "markdown",
   "id": "aaef294f",
   "metadata": {},
   "source": [
    "### 2d) Age"
   ]
  },
  {
   "cell_type": "code",
   "execution_count": 13,
   "id": "9f086cc5",
   "metadata": {},
   "outputs": [
    {
     "data": {
      "text/plain": [
       "count    714.000000\n",
       "mean      29.699113\n",
       "std       14.526507\n",
       "min        0.416700\n",
       "25%       20.125000\n",
       "50%       28.000000\n",
       "75%       38.000000\n",
       "max       80.000000\n",
       "Name: Age, dtype: float64"
      ]
     },
     "execution_count": 13,
     "metadata": {},
     "output_type": "execute_result"
    }
   ],
   "source": [
    "titanic_train_explore[\"Age\"].describe()"
   ]
  },
  {
   "cell_type": "markdown",
   "id": "54ad1808",
   "metadata": {},
   "source": [
    "### 2e) Fare"
   ]
  },
  {
   "cell_type": "code",
   "execution_count": 14,
   "id": "233d7029",
   "metadata": {},
   "outputs": [
    {
     "data": {
      "text/plain": [
       "count    891.000000\n",
       "mean      32.204208\n",
       "std       49.693429\n",
       "min        0.000000\n",
       "25%        7.910400\n",
       "50%       14.454200\n",
       "75%       31.000000\n",
       "max      512.329200\n",
       "Name: Fare, dtype: float64"
      ]
     },
     "execution_count": 14,
     "metadata": {},
     "output_type": "execute_result"
    }
   ],
   "source": [
    "titanic_train_explore[\"Fare\"].describe()"
   ]
  },
  {
   "cell_type": "markdown",
   "id": "2dfec437",
   "metadata": {},
   "source": [
    "### 2f) Sibsp and Parch"
   ]
  },
  {
   "cell_type": "code",
   "execution_count": 15,
   "id": "4c62bc52",
   "metadata": {},
   "outputs": [
    {
     "data": {
      "text/plain": [
       "count    891.000000\n",
       "mean       0.523008\n",
       "std        1.102743\n",
       "min        0.000000\n",
       "25%        0.000000\n",
       "50%        0.000000\n",
       "75%        1.000000\n",
       "max        8.000000\n",
       "Name: SibSp, dtype: float64"
      ]
     },
     "execution_count": 15,
     "metadata": {},
     "output_type": "execute_result"
    }
   ],
   "source": [
    "titanic_train_explore[\"SibSp\"].describe()"
   ]
  },
  {
   "cell_type": "code",
   "execution_count": 16,
   "id": "48bc2eba",
   "metadata": {},
   "outputs": [
    {
     "data": {
      "text/plain": [
       "count    891.000000\n",
       "mean       0.381594\n",
       "std        0.806057\n",
       "min        0.000000\n",
       "25%        0.000000\n",
       "50%        0.000000\n",
       "75%        0.000000\n",
       "max        6.000000\n",
       "Name: Parch, dtype: float64"
      ]
     },
     "execution_count": 16,
     "metadata": {},
     "output_type": "execute_result"
    }
   ],
   "source": [
    "titanic_train_explore[\"Parch\"].describe()"
   ]
  },
  {
   "cell_type": "code",
   "execution_count": 17,
   "id": "e1fdd516",
   "metadata": {},
   "outputs": [],
   "source": [
    "titanic_train_explore[\"travel_alone\"] = np.where(titanic_train_explore[\"SibSp\"]+titanic_train_explore[\"Parch\"] > 0, 1, 0)"
   ]
  },
  {
   "cell_type": "code",
   "execution_count": 18,
   "id": "b3e117a8",
   "metadata": {},
   "outputs": [
    {
     "data": {
      "text/plain": [
       "<AxesSubplot:xlabel='travel_alone'>"
      ]
     },
     "execution_count": 18,
     "metadata": {},
     "output_type": "execute_result"
    },
    {
     "data": {
      "image/png": "[encoded data removed]",
      "text/plain": [
       "<Figure size 432x288 with 1 Axes>"
      ]
     },
     "metadata": {
      "needs_background": "light"
     },
     "output_type": "display_data"
    }
   ],
   "source": [
    "pd.DataFrame(titanic_train_explore.groupby([\"travel_alone\"]).sum()[\"Survived\"]).plot(kind = \"bar\")"
   ]
  },
  {
   "cell_type": "markdown",
   "id": "caa26f18",
   "metadata": {},
   "source": [
    "The relevant variables that will be used to train the model are split into numerical variables, categorical variables and binary variables <br>\n",
    "Each set of variables will go through a separate data pre-processing pipeline, and then unioned together to consolidate the prepared training data"
   ]
  },
  {
   "cell_type": "code",
   "execution_count": 19,
   "id": "f174f553",
   "metadata": {},
   "outputs": [],
   "source": [
    "num_variables = [\"Pclass\", \"Age\", \"Fare\"]\n",
    "cat_variables = [\"Sex\", \"Embarked\"]\n",
    "bin_variables = [\"travel_alone\"]"
   ]
  },
  {
   "cell_type": "markdown",
   "id": "7d185009",
   "metadata": {},
   "source": [
    "## 3. Data pre-processing and feature engineering"
   ]
  },
  {
   "cell_type": "markdown",
   "id": "b1c7142c",
   "metadata": {},
   "source": [
    "A few helper classes are created to form the pipeline for each set of variables: <br> <br>\n",
    "    1. NewVariablesCreator: Create new variables for feature engineering <br> <br>\n",
    "    2. VariableSelector: Selects relevant variables from the training data<br> <br>\n",
    "    3. NumericalValueImputer: Uses a strategy (mean or median) and a list of variable(s) to aggregate, to impute null values in numerical variables (eg Impute median age for each gender for null age values) <br> <br>\n",
    "    4. CategoricalValueImputer: Uses a mode strategy to impute null values in categorical variables"
   ]
  },
  {
   "cell_type": "code",
   "execution_count": 20,
   "id": "07965b55",
   "metadata": {},
   "outputs": [],
   "source": [
    "from sklearn.base import BaseEstimator, TransformerMixin \n",
    "\n",
    "class NewVariablesCreator(BaseEstimator, TransformerMixin):\n",
    "    def __init__(self, age_buckets = False, travel_alone = False):\n",
    "        self.age_buckets = age_buckets\n",
    "        self.travel_alone = travel_alone\n",
    "        \n",
    "    def fit(self, X, y = None):\n",
    "        return self\n",
    "    \n",
    "    def transform(self, X):\n",
    "        if self.age_buckets:\n",
    "            bucket_size = 15\n",
    "            X[\"Age_bucket\"] = (X[\"Age\"]//bucket_size) * bucket_size\n",
    "\n",
    "        if self.travel_alone:\n",
    "            X[\"travel_alone\"] = np.where(X[\"SibSp\"] + X[\"Parch\"] > 0, 1, 0)\n",
    "\n",
    "        return X\n"
   ]
  },
  {
   "cell_type": "code",
   "execution_count": 21,
   "id": "3430bb66",
   "metadata": {},
   "outputs": [],
   "source": [
    "class VariableSelector(BaseEstimator, TransformerMixin):\n",
    "    def __init__(self, columns_to_keep):\n",
    "        self.columns_to_keep = columns_to_keep\n",
    "        \n",
    "    def fit(self, X, y = None):\n",
    "        return self\n",
    "    \n",
    "    def transform(self, X):\n",
    "        X =  X[self.columns_to_keep]\n",
    "        \n",
    "        return X"
   ]
  },
  {
   "cell_type": "code",
   "execution_count": 22,
   "id": "cb7fd254",
   "metadata": {},
   "outputs": [],
   "source": [
    "class NumericalValueImputer(BaseEstimator, TransformerMixin):\n",
    "    def __init__(self, impute_column, agg_columns, strategy):\n",
    "        self.impute_column = impute_column\n",
    "        self.agg_columns = agg_columns\n",
    "        self.strategy = strategy\n",
    "        \n",
    "    def fit(self, X, y = None):\n",
    "        return self\n",
    "\n",
    "    def transform(self, X):\n",
    "        if self.strategy == \"median\":\n",
    "            groupby_df = pd.DataFrame(X.groupby(self.agg_columns).median()[self.impute_column])\n",
    "        elif self.strategy == \"mean\":\n",
    "            groupby_df = pd.DataFrame(X.groupby(self.agg_columns).mean()[self.impute_column])\n",
    "                \n",
    "        X[self.impute_column] =  X[self.impute_column].fillna(X[self.agg_columns].apply(lambda x: groupby_df.loc[tuple(x[col] for col in self.agg_columns)].values[0], axis = 1))\n",
    "        \n",
    "        return X"
   ]
  },
  {
   "cell_type": "code",
   "execution_count": 23,
   "id": "7d3ac9b8",
   "metadata": {},
   "outputs": [],
   "source": [
    "class CategoricalValueImputer(BaseEstimator, TransformerMixin):\n",
    "    def __init__(self, impute_column):\n",
    "        self.impute_column = impute_column\n",
    "    \n",
    "    def fit(self, X, y = None):\n",
    "        return self\n",
    "        \n",
    "    def transform(self, X):\n",
    "        X[self.impute_column] = X[self.impute_column].fillna(X[self.impute_column].mode()[0])\n",
    "        \n",
    "        return X"
   ]
  },
  {
   "cell_type": "markdown",
   "id": "264907ae",
   "metadata": {},
   "source": [
    "<b>Pipeline for numerical variables:<b><br>\n",
    "1. Impute null values in \"Age\" using the median value of each \"Pclass\" <br> <br>\n",
    "2. Impute null values in \"Fare\" using the median value of each \"Pclass\" <br> <br>\n",
    "3. Select the relevant numerical variables <br> <br>\n",
    "4. Scale numerical variables using sklearn StandardScaler"
   ]
  },
  {
   "cell_type": "code",
   "execution_count": 24,
   "id": "87dbaff5",
   "metadata": {},
   "outputs": [],
   "source": [
    "from sklearn.pipeline import Pipeline, FeatureUnion\n",
    "from sklearn.preprocessing import StandardScaler, OneHotEncoder\n",
    "\n",
    "num_pipeline = Pipeline([(\"median_age_by_pclass_imputer\", NumericalValueImputer(\"Age\", [\"Pclass\"], \"median\")),\n",
    "                         (\"median_fare_by_pclass_imputer\", NumericalValueImputer(\"Fare\", [\"Pclass\"], \"median\")),\n",
    "                         (\"attr_selector\", VariableSelector(num_variables)),\n",
    "                         (\"standard_scaler\", StandardScaler())])"
   ]
  },
  {
   "cell_type": "markdown",
   "id": "9fe39827",
   "metadata": {},
   "source": [
    "<b>Pipeline for categorical variables:<b><br>\n",
    "1. Impute null values in \"Embarked\" using the mode value <br> <br>\n",
    "2. Select the relevant categorical variables <br> <br>\n",
    "3. One-hot encode catgorical variables using sklearn OneHotEncoder"
   ]
  },
  {
   "cell_type": "code",
   "execution_count": 25,
   "id": "ae65a25e",
   "metadata": {},
   "outputs": [],
   "source": [
    "cat_pipeline = Pipeline([(\"embarked_mode_value_imputer\", CategoricalValueImputer(\"Embarked\")),\n",
    "                         (\"attr_selector\", VariableSelector(cat_variables)),\n",
    "                         (\"one_hot_encoder\", OneHotEncoder(sparse=False))])"
   ]
  },
  {
   "cell_type": "markdown",
   "id": "ce34ca1d",
   "metadata": {},
   "source": [
    "<b>Pipeline for binary variables:<b><br>\n",
    "1. Create new variable \"travel_alone\" <br> <br>\n",
    "2. Select the relevant binary variables <br> <br>\n"
   ]
  },
  {
   "cell_type": "code",
   "execution_count": 26,
   "id": "1d027b3a",
   "metadata": {},
   "outputs": [],
   "source": [
    "bin_pipeline = Pipeline([(\"create_travel_alone\", NewVariablesCreator(travel_alone = True)),\n",
    "                         (\"attr_selector\", VariableSelector(bin_variables))])"
   ]
  },
  {
   "cell_type": "markdown",
   "id": "ded5c1d9",
   "metadata": {},
   "source": [
    "Full pipeline unions numerical variables, categorical variables, and binary variables after passing through their respective pipelines"
   ]
  },
  {
   "cell_type": "code",
   "execution_count": 27,
   "id": "3b3bd106",
   "metadata": {},
   "outputs": [],
   "source": [
    "full_pipeline = FeatureUnion([(\"num_pipeline\", num_pipeline),\n",
    "                              (\"cat_pipeline\", cat_pipeline),\n",
    "                              (\"bin_pipeline\", bin_pipeline)])\n",
    "\n",
    "titanic_train_final = full_pipeline.fit_transform(titanic_train)"
   ]
  },
  {
   "cell_type": "code",
   "execution_count": 28,
   "id": "6f1e98d7",
   "metadata": {},
   "outputs": [
    {
     "data": {
      "text/html": [
       "<div>\n",
       "<style scoped>\n",
       "    .dataframe tbody tr th:only-of-type {\n",
       "        vertical-align: middle;\n",
       "    }\n",
       "\n",
       "    .dataframe tbody tr th {\n",
       "        vertical-align: top;\n",
       "    }\n",
       "\n",
       "    .dataframe thead th {\n",
       "        text-align: right;\n",
       "    }\n",
       "</style>\n",
       "<table border=\"1\" class=\"dataframe\">\n",
       "  <thead>\n",
       "    <tr style=\"text-align: right;\">\n",
       "      <th></th>\n",
       "      <th>0</th>\n",
       "      <th>1</th>\n",
       "      <th>2</th>\n",
       "      <th>3</th>\n",
       "      <th>4</th>\n",
       "      <th>5</th>\n",
       "      <th>6</th>\n",
       "      <th>7</th>\n",
       "      <th>8</th>\n",
       "    </tr>\n",
       "  </thead>\n",
       "  <tbody>\n",
       "    <tr>\n",
       "      <th>0</th>\n",
       "      <td>0.827377</td>\n",
       "      <td>-0.533833</td>\n",
       "      <td>-0.502445</td>\n",
       "      <td>0.0</td>\n",
       "      <td>1.0</td>\n",
       "      <td>0.0</td>\n",
       "      <td>0.0</td>\n",
       "      <td>1.0</td>\n",
       "      <td>1.0</td>\n",
       "    </tr>\n",
       "    <tr>\n",
       "      <th>1</th>\n",
       "      <td>-1.566107</td>\n",
       "      <td>0.674890</td>\n",
       "      <td>0.786845</td>\n",
       "      <td>1.0</td>\n",
       "      <td>0.0</td>\n",
       "      <td>1.0</td>\n",
       "      <td>0.0</td>\n",
       "      <td>0.0</td>\n",
       "      <td>1.0</td>\n",
       "    </tr>\n",
       "    <tr>\n",
       "      <th>2</th>\n",
       "      <td>0.827377</td>\n",
       "      <td>-0.231652</td>\n",
       "      <td>-0.488854</td>\n",
       "      <td>1.0</td>\n",
       "      <td>0.0</td>\n",
       "      <td>0.0</td>\n",
       "      <td>0.0</td>\n",
       "      <td>1.0</td>\n",
       "      <td>0.0</td>\n",
       "    </tr>\n",
       "    <tr>\n",
       "      <th>3</th>\n",
       "      <td>-1.566107</td>\n",
       "      <td>0.448255</td>\n",
       "      <td>0.420730</td>\n",
       "      <td>1.0</td>\n",
       "      <td>0.0</td>\n",
       "      <td>0.0</td>\n",
       "      <td>0.0</td>\n",
       "      <td>1.0</td>\n",
       "      <td>1.0</td>\n",
       "    </tr>\n",
       "    <tr>\n",
       "      <th>4</th>\n",
       "      <td>0.827377</td>\n",
       "      <td>0.448255</td>\n",
       "      <td>-0.486337</td>\n",
       "      <td>0.0</td>\n",
       "      <td>1.0</td>\n",
       "      <td>0.0</td>\n",
       "      <td>0.0</td>\n",
       "      <td>1.0</td>\n",
       "      <td>0.0</td>\n",
       "    </tr>\n",
       "    <tr>\n",
       "      <th>...</th>\n",
       "      <td>...</td>\n",
       "      <td>...</td>\n",
       "      <td>...</td>\n",
       "      <td>...</td>\n",
       "      <td>...</td>\n",
       "      <td>...</td>\n",
       "      <td>...</td>\n",
       "      <td>...</td>\n",
       "      <td>...</td>\n",
       "    </tr>\n",
       "    <tr>\n",
       "      <th>886</th>\n",
       "      <td>-0.369365</td>\n",
       "      <td>-0.156107</td>\n",
       "      <td>-0.386671</td>\n",
       "      <td>0.0</td>\n",
       "      <td>1.0</td>\n",
       "      <td>0.0</td>\n",
       "      <td>0.0</td>\n",
       "      <td>1.0</td>\n",
       "      <td>0.0</td>\n",
       "    </tr>\n",
       "    <tr>\n",
       "      <th>887</th>\n",
       "      <td>-1.566107</td>\n",
       "      <td>-0.760469</td>\n",
       "      <td>-0.044381</td>\n",
       "      <td>1.0</td>\n",
       "      <td>0.0</td>\n",
       "      <td>0.0</td>\n",
       "      <td>0.0</td>\n",
       "      <td>1.0</td>\n",
       "      <td>0.0</td>\n",
       "    </tr>\n",
       "    <tr>\n",
       "      <th>888</th>\n",
       "      <td>0.827377</td>\n",
       "      <td>-0.382743</td>\n",
       "      <td>-0.176263</td>\n",
       "      <td>1.0</td>\n",
       "      <td>0.0</td>\n",
       "      <td>0.0</td>\n",
       "      <td>0.0</td>\n",
       "      <td>1.0</td>\n",
       "      <td>1.0</td>\n",
       "    </tr>\n",
       "    <tr>\n",
       "      <th>889</th>\n",
       "      <td>-1.566107</td>\n",
       "      <td>-0.231652</td>\n",
       "      <td>-0.044381</td>\n",
       "      <td>0.0</td>\n",
       "      <td>1.0</td>\n",
       "      <td>1.0</td>\n",
       "      <td>0.0</td>\n",
       "      <td>0.0</td>\n",
       "      <td>0.0</td>\n",
       "    </tr>\n",
       "    <tr>\n",
       "      <th>890</th>\n",
       "      <td>0.827377</td>\n",
       "      <td>0.221619</td>\n",
       "      <td>-0.492378</td>\n",
       "      <td>0.0</td>\n",
       "      <td>1.0</td>\n",
       "      <td>0.0</td>\n",
       "      <td>1.0</td>\n",
       "      <td>0.0</td>\n",
       "      <td>0.0</td>\n",
       "    </tr>\n",
       "  </tbody>\n",
       "</table>\n",
       "<p>891 rows × 9 columns</p>\n",
       "</div>"
      ],
      "text/plain": [
       "            0         1         2    3    4    5    6    7    8\n",
       "0    0.827377 -0.533833 -0.502445  0.0  1.0  0.0  0.0  1.0  1.0\n",
       "1   -1.566107  0.674890  0.786845  1.0  0.0  1.0  0.0  0.0  1.0\n",
       "2    0.827377 -0.231652 -0.488854  1.0  0.0  0.0  0.0  1.0  0.0\n",
       "3   -1.566107  0.448255  0.420730  1.0  0.0  0.0  0.0  1.0  1.0\n",
       "4    0.827377  0.448255 -0.486337  0.0  1.0  0.0  0.0  1.0  0.0\n",
       "..        ...       ...       ...  ...  ...  ...  ...  ...  ...\n",
       "886 -0.369365 -0.156107 -0.386671  0.0  1.0  0.0  0.0  1.0  0.0\n",
       "887 -1.566107 -0.760469 -0.044381  1.0  0.0  0.0  0.0  1.0  0.0\n",
       "888  0.827377 -0.382743 -0.176263  1.0  0.0  0.0  0.0  1.0  1.0\n",
       "889 -1.566107 -0.231652 -0.044381  0.0  1.0  1.0  0.0  0.0  0.0\n",
       "890  0.827377  0.221619 -0.492378  0.0  1.0  0.0  1.0  0.0  0.0\n",
       "\n",
       "[891 rows x 9 columns]"
      ]
     },
     "execution_count": 28,
     "metadata": {},
     "output_type": "execute_result"
    }
   ],
   "source": [
    "pd.DataFrame(titanic_train_final)"
   ]
  },
  {
   "cell_type": "markdown",
   "id": "3b1b4be4",
   "metadata": {},
   "source": [
    "## 4. Model training"
   ]
  },
  {
   "cell_type": "markdown",
   "id": "6e796f4f",
   "metadata": {},
   "source": [
    "### 4a) Stochastic Gradient Descent Classifier"
   ]
  },
  {
   "cell_type": "code",
   "execution_count": 29,
   "id": "0b1c4966",
   "metadata": {},
   "outputs": [
    {
     "data": {
      "text/plain": [
       "SGDClassifier(random_state=42)"
      ]
     },
     "execution_count": 29,
     "metadata": {},
     "output_type": "execute_result"
    }
   ],
   "source": [
    "from sklearn.linear_model import SGDClassifier\n",
    "\n",
    "sgd_clf = SGDClassifier(random_state = 42)\n",
    "sgd_clf.fit(titanic_train_final, titanic_train_labels)"
   ]
  },
  {
   "cell_type": "code",
   "execution_count": 30,
   "id": "9045de66",
   "metadata": {},
   "outputs": [
    {
     "name": "stdout",
     "output_type": "stream",
     "text": [
      "Mean accuracy = 0.7621159105534105\n"
     ]
    }
   ],
   "source": [
    "from sklearn.model_selection import cross_val_score, cross_val_predict\n",
    "print(\"Mean accuracy = {}\".format(cross_val_score(sgd_clf, titanic_train_final, titanic_train_labels, cv = 8, scoring = \"accuracy\").mean()))"
   ]
  },
  {
   "cell_type": "markdown",
   "id": "4262d86f",
   "metadata": {},
   "source": [
    "Training a stochastic gradient descent classifier, with 8-fold cross validation, the average accuracy is about 78%. The model was able to correctly predict is a passenger survived or not for about 78% of the training data"
   ]
  },
  {
   "cell_type": "code",
   "execution_count": 46,
   "id": "b50b58fd",
   "metadata": {},
   "outputs": [
    {
     "name": "stdout",
     "output_type": "stream",
     "text": [
      "SGD Classifier, 8 folds\n",
      "Precision = 0.6857142857142857\n",
      "Recall = 0.7017543859649122\n",
      "Accuracy = 0.7620650953984287\n"
     ]
    }
   ],
   "source": [
    "from sklearn.metrics import confusion_matrix, precision_score, recall_score, precision_recall_curve, accuracy_score\n",
    "y_pred = cross_val_predict(sgd_clf, titanic_train_final, titanic_train_labels, cv = 8)\n",
    "y_pred_scores = cross_val_predict(sgd_clf, titanic_train_final, titanic_train_labels, cv = 8, method = \"decision_function\")\n",
    "\n",
    "print(\"SGD Classifier, 8 folds\")\n",
    "print(\"Precision = {}\".format(precision_score(titanic_train_labels, y_pred)))\n",
    "print(\"Recall = {}\".format(recall_score(titanic_train_labels, y_pred)))\n",
    "print(\"Accuracy = {}\".format(accuracy_score(titanic_train_labels, y_pred)))"
   ]
  },
  {
   "cell_type": "markdown",
   "id": "653ff002",
   "metadata": {},
   "source": [
    "True Positive (TP) - Actual: Survived, Predicted: Survived <br>\n",
    "True Negative (TN) - Actual: Does not survive, Predicted: Does not survive <br>\n",
    "False Positive (FP) - Actual: Does not survive, Predicted: Survived <br>\n",
    "False Negative (FN) - Actual: Survived, Predicted: Does not survive <br> <br>\n",
    "\n",
    "Precision = TP/(TP+FP) <br>\n",
    "The precision score measures the ratio of correctly predicted positives to all predicted positives <br> <br>\n",
    "\n",
    "Recall = TP/(TP+FN) <br>\n",
    "The precision score measures the ratio of correctly predicted positives to all actual positives <br> <br>\n",
    "\n",
    "Accuracy = (TP+TN)/(TP+TN+FP+FN) <br> \n",
    "The accuracy score measures the ratio of correctly predicted outcomes to the whole dataset <br> <br>\n",
    "\n",
    "The SGD classifer has a precision score of 0.69, indicating that it correctly predicts surviving passengers 69% of the time <br>\n",
    "The SGD classifier has a recall score of 0.70, indicating that it correctly predicts about 70% of the training data surviving passengers <br>\n",
    "\n",
    "Intrestingly to note, in this context of training a classifer to predict surviving passengers, a higher precision score/lower recall score is preferred. This would mean preferring a classifier that places more emphasis on reducing false positives and correctly predicting surviving passengers"
   ]
  },
  {
   "cell_type": "code",
   "execution_count": 32,
   "id": "b704a32c",
   "metadata": {},
   "outputs": [
    {
     "data": {
      "image/png": "[encoded data removed]",
      "text/plain": [
       "<Figure size 432x288 with 1 Axes>"
      ]
     },
     "metadata": {
      "needs_background": "light"
     },
     "output_type": "display_data"
    },
    {
     "name": "stdout",
     "output_type": "stream",
     "text": [
      "SGD Classifier, 8 folds\n",
      "AUC = 0.8218344890763642\n"
     ]
    }
   ],
   "source": [
    "import matplotlib.pyplot as plt\n",
    "def plot_roc_curve(fpr, tpr, label = None):\n",
    "    plt.plot(fpr, tpr, linewidth = 2, label = label)\n",
    "    plt.plot([0,1], [0,1], \"k--\")\n",
    "\n",
    "from sklearn.metrics import roc_auc_score, roc_curve\n",
    "fpr, tpr, thresholds  = roc_curve(titanic_train_labels, y_pred_scores)\n",
    "plot_roc_curve(fpr, tpr, label = \"SGD\")\n",
    "plt.legend(loc = \"lower right\")\n",
    "plt.show()\n",
    "print(\"SGD Classifier, 8 folds\")\n",
    "print(\"AUC = {}\".format(roc_auc_score(titanic_train_labels, y_pred_scores)))"
   ]
  },
  {
   "cell_type": "markdown",
   "id": "fa777e3a",
   "metadata": {},
   "source": [
    "Training a stochastic gradient descent classifier, with 8-fold cross validation, the area under the recieved operating curve is 0.82, which is quite decent as it is quite far away from the diagonal dotted line which represents a purely random classifier"
   ]
  },
  {
   "cell_type": "markdown",
   "id": "e870c903",
   "metadata": {},
   "source": [
    "### 4b) Logistic Regression"
   ]
  },
  {
   "cell_type": "code",
   "execution_count": 33,
   "id": "474f591a",
   "metadata": {},
   "outputs": [
    {
     "data": {
      "text/plain": [
       "LogisticRegression(random_state=42)"
      ]
     },
     "execution_count": 33,
     "metadata": {},
     "output_type": "execute_result"
    }
   ],
   "source": [
    "from sklearn.linear_model import LogisticRegression\n",
    "\n",
    "log_reg_clf = LogisticRegression(random_state = 42)\n",
    "log_reg_clf.fit(titanic_train_final, titanic_train_labels)"
   ]
  },
  {
   "cell_type": "code",
   "execution_count": 34,
   "id": "e88f488c",
   "metadata": {},
   "outputs": [
    {
     "name": "stdout",
     "output_type": "stream",
     "text": [
      "Logistic Regression Classifier, 8 folds\n",
      "Precision = 0.7422360248447205\n",
      "Recall = 0.6988304093567251\n",
      "Accuracy = 0.7912457912457912\n"
     ]
    }
   ],
   "source": [
    "log_reg_pred = cross_val_predict(log_reg_clf, titanic_train_final, titanic_train_labels, cv = 8)\n",
    "log_reg_pred_scores = cross_val_predict(log_reg_clf, titanic_train_final, titanic_train_labels, cv = 8, method = \"decision_function\")\n",
    "\n",
    "print(\"Logistic Regression Classifier, 8 folds\")\n",
    "print(\"Precision = {}\".format(precision_score(titanic_train_labels, log_reg_pred)))\n",
    "print(\"Recall = {}\".format(recall_score(titanic_train_labels, log_reg_pred)))\n",
    "print(\"Accuracy = {}\".format(accuracy_score(titanic_train_labels, log_reg_pred)))"
   ]
  },
  {
   "cell_type": "code",
   "execution_count": 35,
   "id": "f0297db2",
   "metadata": {},
   "outputs": [
    {
     "data": {
      "image/png": "[encoded data removed]",
      "text/plain": [
       "<Figure size 432x288 with 1 Axes>"
      ]
     },
     "metadata": {
      "needs_background": "light"
     },
     "output_type": "display_data"
    },
    {
     "name": "stdout",
     "output_type": "stream",
     "text": [
      "Logistic Regression Classifier, 8 folds\n",
      "AUC = 0.8445179433100054\n"
     ]
    }
   ],
   "source": [
    "fpr_log_reg, tpr_log_reg, thresholds_log_reg  = roc_curve(titanic_train_labels, log_reg_pred_scores)\n",
    "plot_roc_curve(fpr, tpr, label = \"SGD\")\n",
    "plot_roc_curve(fpr_log_reg, tpr_log_reg, label = \"Logistic Regression\")\n",
    "plt.legend(loc = \"lower right\")\n",
    "plt.show()\n",
    "print(\"Logistic Regression Classifier, 8 folds\")\n",
    "print(\"AUC = {}\".format(roc_auc_score(titanic_train_labels, log_reg_pred_scores)))"
   ]
  },
  {
   "cell_type": "markdown",
   "id": "65fa247c",
   "metadata": {},
   "source": [
    "### 4b) Random Forest Classifier"
   ]
  },
  {
   "cell_type": "code",
   "execution_count": 36,
   "id": "ea855a15",
   "metadata": {},
   "outputs": [
    {
     "data": {
      "text/plain": [
       "RandomForestClassifier(random_state=42)"
      ]
     },
     "execution_count": 36,
     "metadata": {},
     "output_type": "execute_result"
    }
   ],
   "source": [
    "from sklearn.ensemble import RandomForestClassifier\n",
    "\n",
    "forest_clf = RandomForestClassifier(random_state = 42)\n",
    "forest_clf.fit(titanic_train_final, titanic_train_labels)\n"
   ]
  },
  {
   "cell_type": "code",
   "execution_count": 37,
   "id": "85e58314",
   "metadata": {},
   "outputs": [
    {
     "name": "stdout",
     "output_type": "stream",
     "text": [
      "Random Forest Classifier, 8 folds\n",
      "Precision = 0.7659574468085106\n",
      "Recall = 0.7368421052631579\n",
      "Accuracy = 0.8125701459034792\n"
     ]
    }
   ],
   "source": [
    "forest_clf_probs = cross_val_predict(forest_clf, titanic_train_final, titanic_train_labels, cv = 8, method = \"predict_proba\")\n",
    "y_pred_scores_forest = forest_clf_probs[:,1]\n",
    "y_pred_forest = (y_pred_scores_forest >= 0.5)\n",
    "\n",
    "print(\"Random Forest Classifier, 8 folds\")\n",
    "print(\"Precision = {}\".format(precision_score(titanic_train_labels, y_pred_forest)))\n",
    "print(\"Recall = {}\".format(recall_score(titanic_train_labels, y_pred_forest)))\n",
    "print(\"Accuracy = {}\".format(accuracy_score(titanic_train_labels, y_pred_forest)))"
   ]
  },
  {
   "cell_type": "code",
   "execution_count": 38,
   "id": "ecbd1aa2",
   "metadata": {},
   "outputs": [
    {
     "data": {
      "image/png": "[encoded data removed]",
      "text/plain": [
       "<Figure size 432x288 with 1 Axes>"
      ]
     },
     "metadata": {
      "needs_background": "light"
     },
     "output_type": "display_data"
    },
    {
     "name": "stdout",
     "output_type": "stream",
     "text": [
      "Random Forest Classifier, 8 folds\n",
      "AUC = 0.8592763024744619\n"
     ]
    }
   ],
   "source": [
    "fpr_forest, tpr_forest, thresholds_forest  = roc_curve(titanic_train_labels, y_pred_scores_forest)\n",
    "plot_roc_curve(fpr, tpr, label = \"SGD\")\n",
    "plot_roc_curve(fpr_log_reg, tpr_log_reg, label = \"Logistic Regression\")\n",
    "plot_roc_curve(fpr_forest, tpr_forest, label = \"Random Forest\")\n",
    "plt.legend(loc = \"lower right\")\n",
    "plt.show()\n",
    "print(\"Random Forest Classifier, 8 folds\")\n",
    "print(\"AUC = {}\".format(roc_auc_score(titanic_train_labels, y_pred_scores_forest)))"
   ]
  },
  {
   "cell_type": "markdown",
   "id": "3cb9590d",
   "metadata": {},
   "source": [
    "### 4c) Support Vector Machine Classifier"
   ]
  },
  {
   "cell_type": "code",
   "execution_count": 39,
   "id": "ec3047fb",
   "metadata": {},
   "outputs": [
    {
     "data": {
      "text/plain": [
       "SVC(gamma='auto')"
      ]
     },
     "execution_count": 39,
     "metadata": {},
     "output_type": "execute_result"
    }
   ],
   "source": [
    "from sklearn.svm import SVC\n",
    "\n",
    "svm_clf = SVC(gamma=\"auto\")\n",
    "svm_clf.fit(titanic_train_final, titanic_train_labels)"
   ]
  },
  {
   "cell_type": "code",
   "execution_count": 40,
   "id": "ecbe092c",
   "metadata": {},
   "outputs": [
    {
     "name": "stdout",
     "output_type": "stream",
     "text": [
      "Support Vector Classifier, 8 folds\n",
      "Precision = 0.8494208494208494\n",
      "Recall = 0.6432748538011696\n",
      "Accuracy = 0.819304152637486\n"
     ]
    }
   ],
   "source": [
    "svm_clf_pred = cross_val_predict(svm_clf, titanic_train_final, titanic_train_labels, cv = 8)\n",
    "svm_clf_scores = cross_val_predict(svm_clf, titanic_train_final, titanic_train_labels, cv = 8, method = \"decision_function\")\n",
    "\n",
    "print(\"Support Vector Classifier, 8 folds\")\n",
    "print(\"Precision = {}\".format(precision_score(titanic_train_labels, svm_clf_pred)))\n",
    "print(\"Recall = {}\".format(recall_score(titanic_train_labels, svm_clf_pred)))\n",
    "print(\"Accuracy = {}\".format(accuracy_score(titanic_train_labels, svm_clf_pred)))"
   ]
  },
  {
   "cell_type": "code",
   "execution_count": 41,
   "id": "7c64ab50",
   "metadata": {},
   "outputs": [
    {
     "data": {
      "image/png": "[encoded data removed]",
      "text/plain": [
       "<Figure size 432x288 with 1 Axes>"
      ]
     },
     "metadata": {
      "needs_background": "light"
     },
     "output_type": "display_data"
    },
    {
     "name": "stdout",
     "output_type": "stream",
     "text": [
      "Support Vector Classifier, 8 folds\n",
      "AUC = 0.8481928865880548\n"
     ]
    }
   ],
   "source": [
    "fpr_svm, tpr_svm, thresholds_svm  = roc_curve(titanic_train_labels, svm_clf_scores)\n",
    "plot_roc_curve(fpr, tpr, label = \"SGD\")\n",
    "plot_roc_curve(fpr_log_reg, tpr_log_reg, label = \"Logistic Regression\")\n",
    "plot_roc_curve(fpr_forest, tpr_forest, label = \"Random Forest\")\n",
    "plot_roc_curve(fpr_svm, tpr_svm, label = \"SVM\")\n",
    "plt.legend(loc = \"lower right\")\n",
    "plt.show()\n",
    "print(\"Support Vector Classifier, 8 folds\")\n",
    "print(\"AUC = {}\".format(roc_auc_score(titanic_train_labels, svm_clf_scores)))"
   ]
  },
  {
   "cell_type": "markdown",
   "id": "59a9ad01",
   "metadata": {},
   "source": [
    "## 5) Model evaluation and comparison"
   ]
  },
  {
   "cell_type": "code",
   "execution_count": 42,
   "id": "3bdbe6f6",
   "metadata": {},
   "outputs": [],
   "source": [
    "sgd_clf_precision = precision_score(titanic_train_labels, y_pred)\n",
    "sgd_clf_recall = recall_score(titanic_train_labels, y_pred)\n",
    "sgd_clf_accuracy = accuracy_score(titanic_train_labels, y_pred)\n",
    "sgd_clf_AUC = roc_auc_score(titanic_train_labels, y_pred_scores)\n",
    "\n",
    "log_reg_clf_precision = precision_score(titanic_train_labels, log_reg_pred)\n",
    "log_reg_clf_recall = recall_score(titanic_train_labels, log_reg_pred)\n",
    "log_reg_clf_accuracy = accuracy_score(titanic_train_labels, log_reg_pred)\n",
    "log_reg_clf_AUC = roc_auc_score(titanic_train_labels, log_reg_pred_scores)\n",
    "\n",
    "forest_clf_precision = precision_score(titanic_train_labels, y_pred_forest)\n",
    "forest_clf_recall = recall_score(titanic_train_labels, y_pred_forest)\n",
    "forest_clf_accuracy = accuracy_score(titanic_train_labels, y_pred_forest)\n",
    "forest_clf_AUC = roc_auc_score(titanic_train_labels, y_pred_scores_forest)\n",
    "\n",
    "svc_clf_precision = precision_score(titanic_train_labels, svm_clf_pred)\n",
    "svc_clf_recall = recall_score(titanic_train_labels, svm_clf_pred)\n",
    "svc_clf_accuracy = accuracy_score(titanic_train_labels, svm_clf_pred)\n",
    "svc_clf_AUC = roc_auc_score(titanic_train_labels, svm_clf_scores)\n"
   ]
  },
  {
   "cell_type": "code",
   "execution_count": 43,
   "id": "64fe87b6",
   "metadata": {},
   "outputs": [
    {
     "data": {
      "image/png": "[encoded data removed]",
      "text/plain": [
       "<Figure size 720x360 with 1 Axes>"
      ]
     },
     "metadata": {
      "needs_background": "light"
     },
     "output_type": "display_data"
    }
   ],
   "source": [
    "sgd_clf_metrics = {\"Precision\" : sgd_clf_precision, \"Recall\" : sgd_clf_recall, \"Accuracy\" : sgd_clf_accuracy, \"AUC\" : sgd_clf_AUC}\n",
    "log_reg_clf_metrics = {\"Precision\" : log_reg_clf_precision, \"Recall\" : log_reg_clf_recall, \"Accuracy\" : log_reg_clf_accuracy, \"AUC\" : log_reg_clf_AUC}\n",
    "forest_clf_metrics = {\"Precision\" : forest_clf_precision, \"Recall\" : forest_clf_recall, \"Accuracy\" : forest_clf_accuracy, \"AUC\" : forest_clf_AUC}\n",
    "svc_clf_metrics = {\"Precision\" : svc_clf_precision, \"Recall\" : svc_clf_recall, \"Accuracy\" : svc_clf_accuracy, \"AUC\" : svc_clf_AUC}\n",
    "\n",
    "clf_metrics = {}\n",
    "clf_metrics[\"SGD\"] = sgd_clf_metrics\n",
    "clf_metrics[\"Logistic Regression\"] = log_reg_clf_metrics\n",
    "clf_metrics[\"Random Forest\"] = forest_clf_metrics\n",
    "clf_metrics[\"SVC\"] = svc_clf_metrics\n",
    "\n",
    "clf_metrics_df = pd.DataFrame(clf_metrics)\n",
    "\n",
    "clf_metrics_df.plot(kind = \"bar\", figsize = (10,5))\n",
    "plt.title(\"SGD vs Logistic Regression vs Random Forest vs SVC\")\n",
    "plt.legend([\"SGD\", \"Logistic Regression\", \"Random Forest\", \"SVC\"], loc='lower left',  prop={'size': 8})\n",
    "plt.xticks(rotation=30, horizontalalignment=\"center\")\n",
    "plt.show()"
   ]
  },
  {
   "cell_type": "markdown",
   "id": "996433be",
   "metadata": {},
   "source": [
    "The AUC scores for all the classifiers are quite close at just above 0.80. <br> \n",
    "The SVM classifier has the highest precision and accuracy. The classifier seems to be the best at correctly predicting surviving passengers most of the time, and also the best at  predicting actual outcomes. <br>\n",
    "Also to note most classifiers have a higher precision score than recall score with varying differences. This would mean these classifiers have a greater emphasis on reducing false positives and correctly predicting surviving passengers."
   ]
  },
  {
   "cell_type": "code",
   "execution_count": 44,
   "id": "c7a35859",
   "metadata": {},
   "outputs": [],
   "source": [
    "def plot_precision_recall_vs_threshold(classifier, precisions, recalls, thresholds):\n",
    "    plt.plot(thresholds, precisions[:-1], \"b--\", label = \"Precision\", c = \"g\")\n",
    "    plt.plot(thresholds, recalls[:-1], \"b--\", label = \"Recall\", c = \"r\")\n",
    "    plt.legend([\"Precision\",\"Recall\"], loc='lower left',  prop={'size': 8})\n",
    "    plt.xlabel(\"Thresholds\")\n",
    "    plt.ylabel(\"Score\")\n",
    "    plt.title(\"{} Precision/Recall Scores vs Thresholds\".format(classifier))"
   ]
  },
  {
   "cell_type": "code",
   "execution_count": 45,
   "id": "b4e73741",
   "metadata": {},
   "outputs": [
    {
     "name": "stderr",
     "output_type": "stream",
     "text": [
      "C:\\Users\\angus\\Anaconda3\\lib\\site-packages\\ipykernel_launcher.py:2: UserWarning: color is redundantly defined by the 'color' keyword argument and the fmt string \"b--\" (-> color='b'). The keyword argument will take precedence.\n",
      "  \n",
      "C:\\Users\\angus\\Anaconda3\\lib\\site-packages\\ipykernel_launcher.py:3: UserWarning: color is redundantly defined by the 'color' keyword argument and the fmt string \"b--\" (-> color='b'). The keyword argument will take precedence.\n",
      "  This is separate from the ipykernel package so we can avoid doing imports until\n"
     ]
    },
    {
     "data": {
      "image/png": "[encoded data removed]",
      "text/plain": [
       "<Figure size 432x288 with 1 Axes>"
      ]
     },
     "metadata": {
      "needs_background": "light"
     },
     "output_type": "display_data"
    }
   ],
   "source": [
    "precisions, recalls, thresholds = precision_recall_curve(titanic_train_labels, svm_clf_scores)\n",
    "plot_precision_recall_vs_threshold(\"SVM Classifier\", precisions, recalls, thresholds)\n",
    "plt.show()"
   ]
  },
  {
   "cell_type": "markdown",
   "id": "a159dda1",
   "metadata": {},
   "source": [
    "Plotting the SVM Classifier's precision/recall scores for different thresholds, we can see that the precision score is greater than the recall score at the default threshold of 0 <b>\n",
    "\n",
    "As the threshold increases, the precision score generall increases while the recall score generally decreases"
   ]
  },
  {
   "cell_type": "code",
   "execution_count": null,
   "id": "13e06e2b",
   "metadata": {},
   "outputs": [],
   "source": []
  },
  {
   "cell_type": "code",
   "execution_count": null,
   "id": "5e6841fc",
   "metadata": {},
   "outputs": [],
   "source": []
  }
 ],
 "metadata": {
  "kernelspec": {
   "display_name": "Python 3 (ipykernel)",
   "language": "python",
   "name": "python3"
  },
  "language_info": {
   "codemirror_mode": {
    "name": "ipython",
    "version": 3
   },
   "file_extension": ".py",
   "mimetype": "text/x-python",
   "name": "python",
   "nbconvert_exporter": "python",
   "pygments_lexer": "ipython3",
   "version": "3.7.11"
  }
 },
 "nbformat": 4,
 "nbformat_minor": 5
}
