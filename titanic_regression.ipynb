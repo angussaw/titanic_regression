{
 "cells": [
  {
   "cell_type": "markdown",
   "id": "21cf7c35",
   "metadata": {},
   "source": [
    "## 1. Import data"
   ]
  },
  {
   "cell_type": "code",
   "execution_count": 1,
   "id": "9f7ee8ec",
   "metadata": {},
   "outputs": [],
   "source": [
    "import os\n",
    "import urllib.request\n",
    "\n",
    "TITANIC_PATH = os.path.join(\"datasets\", \"titanic\")\n",
    "DOWNLOAD_URL = \"https://raw.githubusercontent.com/ageron/handson-ml2/master/datasets/titanic/\"\n",
    "\n",
    "def fetch_titanic_data(url=DOWNLOAD_URL, path=TITANIC_PATH):\n",
    "    if not os.path.isdir(path):\n",
    "        os.makedirs(path)\n",
    "    for filename in (\"train.csv\", \"test.csv\"):\n",
    "        filepath = os.path.join(path, filename)\n",
    "        if not os.path.isfile(filepath):\n",
    "            print(\"Downloading\", filename)\n",
    "            urllib.request.urlretrieve(url + filename, filepath)\n",
    "\n",
    "fetch_titanic_data()    \n"
   ]
  },
  {
   "cell_type": "code",
   "execution_count": 2,
   "id": "45c0cf79",
   "metadata": {},
   "outputs": [
    {
     "data": {
      "text/plain": [
       "0.3838383838383838"
      ]
     },
     "execution_count": 2,
     "metadata": {},
     "output_type": "execute_result"
    }
   ],
   "source": [
    "import pandas as pd\n",
    "\n",
    "def load_titanic_data(filename, titanic_path=TITANIC_PATH):\n",
    "    csv_path = os.path.join(titanic_path, filename)\n",
    "    return pd.read_csv(csv_path)\n",
    "\n",
    "titanic_train = load_titanic_data(\"train.csv\")\n",
    "titanic_test = load_titanic_data(\"test.csv\")\n",
    "\n",
    "titanic_train_labels = titanic_train[\"Survived\"].values\n",
    "del titanic_train[\"Survived\"]\n",
    "titanic_train_labels.mean()"
   ]
  },
  {
   "cell_type": "markdown",
   "id": "eebbda87",
   "metadata": {},
   "source": [
    "Approximately 38% of the passengers in the training set survived"
   ]
  },
  {
   "cell_type": "markdown",
   "id": "b96d1ddd",
   "metadata": {},
   "source": [
    "## 2. Exploration of training data"
   ]
  },
  {
   "cell_type": "code",
   "execution_count": 3,
   "id": "e15a6392",
   "metadata": {},
   "outputs": [
    {
     "data": {
      "text/plain": [
       "(891, 11)"
      ]
     },
     "execution_count": 3,
     "metadata": {},
     "output_type": "execute_result"
    }
   ],
   "source": [
    "titanic_train.shape"
   ]
  },
  {
   "cell_type": "code",
   "execution_count": 4,
   "id": "4c8b7e1b",
   "metadata": {},
   "outputs": [
    {
     "data": {
      "text/plain": [
       "Index(['PassengerId', 'Pclass', 'Name', 'Sex', 'Age', 'SibSp', 'Parch',\n",
       "       'Ticket', 'Fare', 'Cabin', 'Embarked'],\n",
       "      dtype='object')"
      ]
     },
     "execution_count": 4,
     "metadata": {},
     "output_type": "execute_result"
    }
   ],
   "source": [
    "titanic_train.columns"
   ]
  },
  {
   "cell_type": "code",
   "execution_count": 5,
   "id": "7441e8b5",
   "metadata": {},
   "outputs": [
    {
     "data": {
      "text/plain": [
       "PassengerId    False\n",
       "Pclass         False\n",
       "Name           False\n",
       "Sex            False\n",
       "Age             True\n",
       "SibSp          False\n",
       "Parch          False\n",
       "Ticket         False\n",
       "Fare           False\n",
       "Cabin           True\n",
       "Embarked        True\n",
       "dtype: bool"
      ]
     },
     "execution_count": 5,
     "metadata": {},
     "output_type": "execute_result"
    }
   ],
   "source": [
    "titanic_train.isnull().any()"
   ]
  },
  {
   "cell_type": "markdown",
   "id": "6be28b60",
   "metadata": {},
   "source": [
    "\"Age\", \"Cabin\" and \"Embarked\" variable contain null values"
   ]
  },
  {
   "cell_type": "code",
   "execution_count": 6,
   "id": "8b93984c",
   "metadata": {},
   "outputs": [
    {
     "data": {
      "text/plain": [
       "2"
      ]
     },
     "execution_count": 6,
     "metadata": {},
     "output_type": "execute_result"
    }
   ],
   "source": [
    "len(titanic_train[titanic_train[\"Embarked\"].isna() == True])"
   ]
  },
  {
   "cell_type": "code",
   "execution_count": 7,
   "id": "78fd8b8f",
   "metadata": {},
   "outputs": [
    {
     "data": {
      "text/plain": [
       "687"
      ]
     },
     "execution_count": 7,
     "metadata": {},
     "output_type": "execute_result"
    }
   ],
   "source": [
    "len(titanic_train[titanic_train[\"Cabin\"].isna() == True])"
   ]
  },
  {
   "cell_type": "code",
   "execution_count": 8,
   "id": "7b4851ec",
   "metadata": {},
   "outputs": [
    {
     "data": {
      "text/plain": [
       "177"
      ]
     },
     "execution_count": 8,
     "metadata": {},
     "output_type": "execute_result"
    }
   ],
   "source": [
    "len(titanic_train[titanic_train[\"Age\"].isna() == True])"
   ]
  },
  {
   "cell_type": "markdown",
   "id": "b0ea7cd4",
   "metadata": {},
   "source": [
    "\"Cabin\" has 687 null values, while \"Age\" and \"Embarked\" have 177 and 2 null values respectively <br>\n",
    "\"Age\" is a numerical variable and the null values will have to be imputed via some strategy <br>\n",
    "\"Embarked\" and \"Cabin\" are categorical variables, however, \"Embarked\" will likely be imputed via some strategy due to it only having 2 null values"
   ]
  },
  {
   "cell_type": "code",
   "execution_count": 9,
   "id": "39f057a7",
   "metadata": {},
   "outputs": [
    {
     "data": {
      "text/plain": [
       "male      577\n",
       "female    314\n",
       "Name: Sex, dtype: int64"
      ]
     },
     "execution_count": 9,
     "metadata": {},
     "output_type": "execute_result"
    }
   ],
   "source": [
    "titanic_train[\"Sex\"].value_counts()"
   ]
  },
  {
   "cell_type": "code",
   "execution_count": 10,
   "id": "d39303bf",
   "metadata": {},
   "outputs": [
    {
     "data": {
      "text/plain": [
       "3    491\n",
       "1    216\n",
       "2    184\n",
       "Name: Pclass, dtype: int64"
      ]
     },
     "execution_count": 10,
     "metadata": {},
     "output_type": "execute_result"
    }
   ],
   "source": [
    "titanic_train[\"Pclass\"].value_counts()"
   ]
  },
  {
   "cell_type": "code",
   "execution_count": 11,
   "id": "9f086cc5",
   "metadata": {},
   "outputs": [
    {
     "data": {
      "text/plain": [
       "count    714.000000\n",
       "mean      29.699113\n",
       "std       14.526507\n",
       "min        0.416700\n",
       "25%       20.125000\n",
       "50%       28.000000\n",
       "75%       38.000000\n",
       "max       80.000000\n",
       "Name: Age, dtype: float64"
      ]
     },
     "execution_count": 11,
     "metadata": {},
     "output_type": "execute_result"
    }
   ],
   "source": [
    "titanic_train[\"Age\"].describe()"
   ]
  },
  {
   "cell_type": "code",
   "execution_count": 12,
   "id": "233d7029",
   "metadata": {},
   "outputs": [
    {
     "data": {
      "text/plain": [
       "count    891.000000\n",
       "mean      32.204208\n",
       "std       49.693429\n",
       "min        0.000000\n",
       "25%        7.910400\n",
       "50%       14.454200\n",
       "75%       31.000000\n",
       "max      512.329200\n",
       "Name: Fare, dtype: float64"
      ]
     },
     "execution_count": 12,
     "metadata": {},
     "output_type": "execute_result"
    }
   ],
   "source": [
    "titanic_train[\"Fare\"].describe()"
   ]
  },
  {
   "cell_type": "code",
   "execution_count": 13,
   "id": "4c62bc52",
   "metadata": {},
   "outputs": [
    {
     "data": {
      "text/plain": [
       "count    891.000000\n",
       "mean       0.523008\n",
       "std        1.102743\n",
       "min        0.000000\n",
       "25%        0.000000\n",
       "50%        0.000000\n",
       "75%        1.000000\n",
       "max        8.000000\n",
       "Name: SibSp, dtype: float64"
      ]
     },
     "execution_count": 13,
     "metadata": {},
     "output_type": "execute_result"
    }
   ],
   "source": [
    "titanic_train[\"SibSp\"].describe()"
   ]
  },
  {
   "cell_type": "code",
   "execution_count": 14,
   "id": "48bc2eba",
   "metadata": {},
   "outputs": [
    {
     "data": {
      "text/plain": [
       "count    891.000000\n",
       "mean       0.381594\n",
       "std        0.806057\n",
       "min        0.000000\n",
       "25%        0.000000\n",
       "50%        0.000000\n",
       "75%        0.000000\n",
       "max        6.000000\n",
       "Name: Parch, dtype: float64"
      ]
     },
     "execution_count": 14,
     "metadata": {},
     "output_type": "execute_result"
    }
   ],
   "source": [
    "titanic_train[\"Parch\"].describe()"
   ]
  },
  {
   "cell_type": "markdown",
   "id": "caafaeef",
   "metadata": {},
   "source": [
    "The relevant variables that will be used to train the model are split into numerical variables and categorical variables <br>\n",
    "Each set of variables will go through a separate data pre-processing pipeline, and then unioned together to consolidate the prepared training data"
   ]
  },
  {
   "cell_type": "code",
   "execution_count": 15,
   "id": "f174f553",
   "metadata": {},
   "outputs": [],
   "source": [
    "num_variables = [\"Pclass\", \"Age\", \"SibSp\", \"Parch\", \"Fare\"]\n",
    "cat_variables = [\"Sex\", \"Embarked\"]"
   ]
  },
  {
   "cell_type": "markdown",
   "id": "938779b9",
   "metadata": {},
   "source": [
    "## 3. Data pre-processing"
   ]
  },
  {
   "cell_type": "markdown",
   "id": "8d053d2b",
   "metadata": {},
   "source": [
    "A few helper classes are created to form the pipeline for each set of variables: <br> <br>\n",
    "    1. VariableSelector: Selects a variables from the training data to pre-process, or create new variables for feature engineering <br> <br>\n",
    "    2. NumericalValueImputer: Uses a strategy (mean or median) and a list of variable(s) to aggregate, to impute null values in numerical variables (eg Impute median age for each gender for null age values) <br> <br>\n",
    "    3. CategoricalValueImputer: Uses a mode strategy to impute null values in categorical variables"
   ]
  },
  {
   "cell_type": "code",
   "execution_count": 16,
   "id": "7c8f2465",
   "metadata": {},
   "outputs": [],
   "source": [
    "from sklearn.base import BaseEstimator, TransformerMixin \n",
    "\n",
    "class VariableSelector(BaseEstimator, TransformerMixin):\n",
    "    def __init__(self, columns_to_keep, age_buckets = False, comb_sibsp_parch = False):\n",
    "        self.columns_to_keep = columns_to_keep\n",
    "        self.age_buckets = age_buckets\n",
    "        self.comb_sibsp_parch = comb_sibsp_parch\n",
    "        \n",
    "    def fit(self, X, y = None):\n",
    "        return self\n",
    "    \n",
    "    def transform(self, X):\n",
    "        new_columns = self.columns_to_keep.copy()\n",
    "        if self.age_buckets:\n",
    "            bucket_size = 15\n",
    "            X[\"Age_bucket\"] = (X[\"Age\"]//bucket_size) * bucket_size\n",
    "            new_columns.remove(\"Age\")\n",
    "            new_columns.append(\"Age_bucket\")\n",
    "             \n",
    "        if self.comb_sibsp_parch:\n",
    "            X[\"SibSp_Parch\"] = X[\"SibSp\"] + X[\"Parch\"]\n",
    "            new_columns.remove(\"SibSp\")\n",
    "            new_columns.remove(\"Parch\")\n",
    "            new_columns.append(\"SibSp_Parch\")\n",
    "             \n",
    "        X =  X[new_columns]\n",
    "        \n",
    "        return X"
   ]
  },
  {
   "cell_type": "code",
   "execution_count": 17,
   "id": "7a21c6ff",
   "metadata": {},
   "outputs": [],
   "source": [
    "class NumericalValueImputer(BaseEstimator, TransformerMixin):\n",
    "    def __init__(self, impute_column, agg_columns, strategy):\n",
    "        self.impute_column = impute_column\n",
    "        self.agg_columns = agg_columns\n",
    "        self.strategy = strategy\n",
    "        \n",
    "    def fit(self, X, y = None):\n",
    "        return self\n",
    "\n",
    "    def transform(self, X):\n",
    "        if self.strategy == \"median\":\n",
    "            groupby_df = pd.DataFrame(X.groupby(self.agg_columns).median()[self.impute_column])\n",
    "        elif self.strategy == \"mean\":\n",
    "            groupby_df = pd.DataFrame(X.groupby(self.agg_columns).mean()[self.impute_column])\n",
    "                \n",
    "        X[self.impute_column] =  X[self.impute_column].fillna(X[self.agg_columns].apply(lambda x: groupby_df.loc[tuple(x[col] for col in self.agg_columns)].values[0], axis = 1))\n",
    "        \n",
    "        return X"
   ]
  },
  {
   "cell_type": "code",
   "execution_count": 18,
   "id": "19b67eba",
   "metadata": {},
   "outputs": [],
   "source": [
    "class CategoricalValueImputer(BaseEstimator, TransformerMixin):\n",
    "    def __init__(self, impute_column):\n",
    "        self.impute_column = impute_column\n",
    "    \n",
    "    def fit(self, X, y = None):\n",
    "        return self\n",
    "        \n",
    "    def transform(self, X):\n",
    "        X[self.impute_column] = X[self.impute_column].fillna(X[self.impute_column].mode()[0])\n",
    "        \n",
    "        return X"
   ]
  },
  {
   "cell_type": "markdown",
   "id": "e63d775f",
   "metadata": {},
   "source": [
    "<b>Pipeline for numerical variables:<b><br>\n",
    "1. Impute null values in \"Age\" using the median value of each \"Pclass\" <br> <br>\n",
    "2. Impute null values in \"Fare\" using the median value of each \"Pclass\" <br> <br>\n",
    "3. Select the relevant numerical variables <br> <br>\n",
    "4. Scale numerical variables using sklearn StandardScaler"
   ]
  },
  {
   "cell_type": "code",
   "execution_count": 19,
   "id": "06004253",
   "metadata": {},
   "outputs": [],
   "source": [
    "from sklearn.pipeline import Pipeline, FeatureUnion\n",
    "from sklearn.preprocessing import StandardScaler, OneHotEncoder\n",
    "\n",
    "num_pipeline = Pipeline([(\"median_age_by_pclass_imputer\", NumericalValueImputer(\"Age\", [\"Pclass\"], \"median\")),\n",
    "                         (\"median_fare_by_pclass_imputer\", NumericalValueImputer(\"Fare\", [\"Pclass\"], \"median\")),\n",
    "                         (\"attr_selector\", VariableSelector(num_variables, age_buckets = False, comb_sibsp_parch = False)),\n",
    "                         (\"standard_scaler\", StandardScaler())])"
   ]
  },
  {
   "cell_type": "markdown",
   "id": "a0f7dc52",
   "metadata": {},
   "source": [
    "<b>Pipeline for categorical variables:<b><br>\n",
    "1. Impute null values in \"Embarked\" using the mode value <br> <br>\n",
    "3. Select the relevant categorical variables <br> <br>\n",
    "4. One-hot encode catgorical variables using sklearn OneHotEncoder"
   ]
  },
  {
   "cell_type": "code",
   "execution_count": 20,
   "id": "886707b0",
   "metadata": {},
   "outputs": [],
   "source": [
    "cat_pipeline = Pipeline([(\"embarked_mode_value_imputer\", CategoricalValueImputer(\"Embarked\")),\n",
    "                         (\"attr_selector\", VariableSelector(cat_variables)),\n",
    "                         (\"one_hot_encoder\", OneHotEncoder(sparse=False))])"
   ]
  },
  {
   "cell_type": "markdown",
   "id": "74425ea2",
   "metadata": {},
   "source": [
    "Full pipeline unions numerical variables and categorical variables after passing through their respective pipelines"
   ]
  },
  {
   "cell_type": "code",
   "execution_count": 21,
   "id": "24613c65",
   "metadata": {},
   "outputs": [],
   "source": [
    "full_pipeline = FeatureUnion([(\"num_pipeline\", num_pipeline),\n",
    "                              (\"cat_pipeline\", cat_pipeline)])\n",
    "\n",
    "titanic_train_final = full_pipeline.fit_transform(titanic_train)"
   ]
  },
  {
   "cell_type": "markdown",
   "id": "2d249501",
   "metadata": {},
   "source": [
    "## 4. Model training"
   ]
  },
  {
   "cell_type": "markdown",
   "id": "209b615d",
   "metadata": {},
   "source": [
    "### 4a) Stochastic Gradient Descent Classifier"
   ]
  },
  {
   "cell_type": "code",
   "execution_count": 22,
   "id": "2e8926c7",
   "metadata": {},
   "outputs": [
    {
     "data": {
      "text/plain": [
       "SGDClassifier(random_state=42)"
      ]
     },
     "execution_count": 22,
     "metadata": {},
     "output_type": "execute_result"
    }
   ],
   "source": [
    "from sklearn.linear_model import SGDClassifier\n",
    "\n",
    "sgd_clf = SGDClassifier(random_state = 42)\n",
    "sgd_clf.fit(titanic_train_final, titanic_train_labels)"
   ]
  },
  {
   "cell_type": "code",
   "execution_count": 23,
   "id": "c06c0483",
   "metadata": {},
   "outputs": [
    {
     "name": "stdout",
     "output_type": "stream",
     "text": [
      "Mean accuracy = 0.7845177767052767\n"
     ]
    }
   ],
   "source": [
    "from sklearn.model_selection import cross_val_score, cross_val_predict\n",
    "print(\"Mean accuracy = {}\".format(cross_val_score(sgd_clf, titanic_train_final, titanic_train_labels, cv = 8, scoring = \"accuracy\").mean()))"
   ]
  },
  {
   "cell_type": "markdown",
   "id": "46ae03e8",
   "metadata": {},
   "source": [
    "Training a stochastic gradient descent classifier, with 8-fold cross validation, the average accuracy is about 78%. The model was able to correctly predict is a passenger survived or not for about 78% of the training data"
   ]
  },
  {
   "cell_type": "code",
   "execution_count": 24,
   "id": "2ad16e0d",
   "metadata": {},
   "outputs": [
    {
     "name": "stdout",
     "output_type": "stream",
     "text": [
      "SGD Classifier, 8 folds\n",
      "Precision = 0.7777777777777778\n",
      "Recall = 0.6140350877192983\n",
      "Accuracy = 0.7845117845117845\n"
     ]
    }
   ],
   "source": [
    "from sklearn.metrics import confusion_matrix, precision_score, recall_score, precision_recall_curve, accuracy_score\n",
    "y_pred = cross_val_predict(sgd_clf, titanic_train_final, titanic_train_labels, cv = 8)\n",
    "y_pred_scores = cross_val_predict(sgd_clf, titanic_train_final, titanic_train_labels, cv = 8, method = \"decision_function\")\n",
    "\n",
    "print(\"SGD Classifier, 8 folds\")\n",
    "print(\"Precision = {}\".format(precision_score(titanic_train_labels, y_pred)))\n",
    "print(\"Recall = {}\".format(recall_score(titanic_train_labels, y_pred)))\n",
    "print(\"Accuracy = {}\".format(accuracy_score(titanic_train_labels, y_pred)))"
   ]
  },
  {
   "cell_type": "markdown",
   "id": "265e4dec",
   "metadata": {},
   "source": [
    "True Positive (TP) - Actual: Survived, Predicted: Survived <br>\n",
    "True Negative (TN) - Actual: Does not survive, Predicted: Does not survive <br>\n",
    "False Positive (FP) - Actual: Does not survive, Predicted: Survived <br>\n",
    "False Negative (FN) - Actual: Survived, Predicted: Does not survive <br> <br>\n",
    "\n",
    "Precision = TP/(TP+FP) <br>\n",
    "The precision score measures the ratio of correctly predicted positives to all predicted positives <br> <br>\n",
    "\n",
    "Recall = TP/(TP+FN) <br>\n",
    "The precision score measures the ratio of correctly predicted positives to all actual positives <br> <br>\n",
    "\n",
    "Accuracy = (TP+TN)/(TP+TN+FP+FN) <br> \n",
    "The accuracy score measures the ratio of correctly predicted outcomes to the whole dataset <br> <br>\n",
    "\n",
    "The SGD classifer has a precision score of 0.78, indicating that it correctly predicts surviving passengers 78% of the time <br>\n",
    "The SGD classifier has a recall score of 0.61, indicating that it correctly predicts about 61% of the training data surviving passengers <br>\n",
    "\n",
    "Intrestingly to note, in this context of training a classifer to predict surviving passengers, a higher precision score/lower recall score is preferred. This would mean preferring a classifier that places more emphasis on reducing false positives and correctly predicting surviving passengers"
   ]
  },
  {
   "cell_type": "code",
   "execution_count": 25,
   "id": "6d671ac4",
   "metadata": {},
   "outputs": [
    {
     "data": {
      "image/png": "[encoded data removed]",
      "text/plain": [
       "<Figure size 432x288 with 1 Axes>"
      ]
     },
     "metadata": {
      "needs_background": "light"
     },
     "output_type": "display_data"
    },
    {
     "name": "stdout",
     "output_type": "stream",
     "text": [
      "SGD Classifier, 8 folds\n",
      "AUC = 0.8288488373331628\n"
     ]
    }
   ],
   "source": [
    "import matplotlib.pyplot as plt\n",
    "def plot_roc_curve(fpr, tpr, label = None):\n",
    "    plt.plot(fpr, tpr, linewidth = 2, label = label)\n",
    "    plt.plot([0,1], [0,1], \"k--\")\n",
    "\n",
    "from sklearn.metrics import roc_auc_score, roc_curve\n",
    "fpr, tpr, thresholds  = roc_curve(titanic_train_labels, y_pred_scores)\n",
    "plot_roc_curve(fpr, tpr)\n",
    "plt.show()\n",
    "print(\"SGD Classifier, 8 folds\")\n",
    "print(\"AUC = {}\".format(roc_auc_score(titanic_train_labels, y_pred_scores)))"
   ]
  },
  {
   "cell_type": "markdown",
   "id": "1732c8ee",
   "metadata": {},
   "source": [
    "Training a stochastic gradient descent classifier, with 8-fold cross validation, the area under the recieved operating curve is 0.83, which is quite decent as it is quite far away from the diagonal dotted line which represents a purely random classifier"
   ]
  },
  {
   "cell_type": "markdown",
   "id": "f496fbc8",
   "metadata": {},
   "source": [
    "### 4b) Random Forest Classifier"
   ]
  },
  {
   "cell_type": "code",
   "execution_count": 26,
   "id": "65b2c243",
   "metadata": {},
   "outputs": [
    {
     "data": {
      "text/plain": [
       "RandomForestClassifier(random_state=42)"
      ]
     },
     "execution_count": 26,
     "metadata": {},
     "output_type": "execute_result"
    }
   ],
   "source": [
    "from sklearn.ensemble import RandomForestClassifier\n",
    "\n",
    "forest_clf = RandomForestClassifier(random_state = 42)\n",
    "forest_clf.fit(titanic_train_final, titanic_train_labels)\n"
   ]
  },
  {
   "cell_type": "code",
   "execution_count": 27,
   "id": "28214dd8",
   "metadata": {},
   "outputs": [
    {
     "name": "stdout",
     "output_type": "stream",
     "text": [
      "Random Forest Classifier, 8 folds\n",
      "Precision = 0.7634730538922155\n",
      "Recall = 0.7456140350877193\n",
      "Accuracy = 0.813692480359147\n"
     ]
    }
   ],
   "source": [
    "forest_clf_probs = cross_val_predict(forest_clf, titanic_train_final, titanic_train_labels, cv = 8, method = \"predict_proba\")\n",
    "y_pred_scores_forest = forest_clf_probs[:,1]\n",
    "y_pred_forest = (y_pred_scores_forest >= 0.5)\n",
    "\n",
    "print(\"Random Forest Classifier, 8 folds\")\n",
    "print(\"Precision = {}\".format(precision_score(titanic_train_labels, y_pred_forest)))\n",
    "print(\"Recall = {}\".format(recall_score(titanic_train_labels, y_pred_forest)))\n",
    "print(\"Accuracy = {}\".format(accuracy_score(titanic_train_labels, y_pred_forest)))"
   ]
  },
  {
   "cell_type": "code",
   "execution_count": 28,
   "id": "c3a753cd",
   "metadata": {},
   "outputs": [
    {
     "data": {
      "image/png": "[encoded data removed]",
      "text/plain": [
       "<Figure size 432x288 with 1 Axes>"
      ]
     },
     "metadata": {
      "needs_background": "light"
     },
     "output_type": "display_data"
    },
    {
     "name": "stdout",
     "output_type": "stream",
     "text": [
      "Random Forest Classifier, 8 folds\n",
      "AUC = 0.8585040317855963\n"
     ]
    }
   ],
   "source": [
    "fpr_forest, tpr_forest, thresholds_forest  = roc_curve(titanic_train_labels, y_pred_scores_forest)\n",
    "plot_roc_curve(fpr, tpr, label = \"SGD\")\n",
    "plot_roc_curve(fpr_forest, tpr_forest, label = \"Random Forest\")\n",
    "plt.legend(loc = \"lower right\")\n",
    "plt.show()\n",
    "print(\"Random Forest Classifier, 8 folds\")\n",
    "print(\"AUC = {}\".format(roc_auc_score(titanic_train_labels, y_pred_scores_forest)))"
   ]
  },
  {
   "cell_type": "markdown",
   "id": "3038e742",
   "metadata": {},
   "source": [
    "### 4c) Support Vector Machine Classifier"
   ]
  },
  {
   "cell_type": "code",
   "execution_count": 29,
   "id": "6b618189",
   "metadata": {},
   "outputs": [
    {
     "data": {
      "text/plain": [
       "SVC(gamma='auto')"
      ]
     },
     "execution_count": 29,
     "metadata": {},
     "output_type": "execute_result"
    }
   ],
   "source": [
    "from sklearn.svm import SVC\n",
    "\n",
    "svm_clf = SVC(gamma=\"auto\")\n",
    "svm_clf.fit(titanic_train_final, titanic_train_labels)"
   ]
  },
  {
   "cell_type": "code",
   "execution_count": 30,
   "id": "3afc0554",
   "metadata": {},
   "outputs": [
    {
     "name": "stdout",
     "output_type": "stream",
     "text": [
      "Support Vector Classifier, 8 folds\n",
      "Precision = 0.813953488372093\n",
      "Recall = 0.716374269005848\n",
      "Accuracy = 0.8282828282828283\n"
     ]
    }
   ],
   "source": [
    "svm_clf_pred = cross_val_predict(svm_clf, titanic_train_final, titanic_train_labels, cv = 8)\n",
    "svm_clf_scores = cross_val_predict(svm_clf, titanic_train_final, titanic_train_labels, cv = 8, method = \"decision_function\")\n",
    "\n",
    "print(\"Support Vector Classifier, 8 folds\")\n",
    "print(\"Precision = {}\".format(precision_score(titanic_train_labels, svm_clf_pred)))\n",
    "print(\"Recall = {}\".format(recall_score(titanic_train_labels, svm_clf_pred)))\n",
    "print(\"Accuracy = {}\".format(accuracy_score(titanic_train_labels, svm_clf_pred)))"
   ]
  },
  {
   "cell_type": "code",
   "execution_count": 31,
   "id": "32549ad9",
   "metadata": {},
   "outputs": [
    {
     "data": {
      "image/png": "[encoded data removed]",
      "text/plain": [
       "<Figure size 432x288 with 1 Axes>"
      ]
     },
     "metadata": {
      "needs_background": "light"
     },
     "output_type": "display_data"
    },
    {
     "name": "stdout",
     "output_type": "stream",
     "text": [
      "Support Vector Classifier, 8 folds\n",
      "AUC = 0.8503339404978749\n"
     ]
    }
   ],
   "source": [
    "fpr_svm, tpr_svm, thresholds_svm  = roc_curve(titanic_train_labels, svm_clf_scores)\n",
    "plot_roc_curve(fpr, tpr, label = \"SGD\")\n",
    "plot_roc_curve(fpr_forest, tpr_forest, label = \"Random Forest\")\n",
    "plot_roc_curve(fpr_svm, tpr_svm, label = \"SVM\")\n",
    "plt.legend(loc = \"lower right\")\n",
    "plt.show()\n",
    "print(\"Support Vector Classifier, 8 folds\")\n",
    "print(\"AUC = {}\".format(roc_auc_score(titanic_train_labels, svm_clf_scores)))"
   ]
  },
  {
   "cell_type": "markdown",
   "id": "b25216ce",
   "metadata": {},
   "source": [
    "## 5) Model evaluation and comparison"
   ]
  },
  {
   "cell_type": "code",
   "execution_count": 32,
   "id": "08cf0d26",
   "metadata": {},
   "outputs": [],
   "source": [
    "sgd_clf_precision = precision_score(titanic_train_labels, y_pred)\n",
    "sgd_clf_recall = recall_score(titanic_train_labels, y_pred)\n",
    "sgd_clf_accuracy = accuracy_score(titanic_train_labels, y_pred)\n",
    "sgd_clf_AUC = roc_auc_score(titanic_train_labels, y_pred_scores)\n",
    "\n",
    "forest_clf_precision = precision_score(titanic_train_labels, y_pred_forest)\n",
    "forest_clf_recall = recall_score(titanic_train_labels, y_pred_forest)\n",
    "forest_clf_accuracy = accuracy_score(titanic_train_labels, y_pred_forest)\n",
    "forest_clf_AUC = roc_auc_score(titanic_train_labels, y_pred_scores_forest)\n",
    "\n",
    "svc_clf_precision = precision_score(titanic_train_labels, svm_clf_pred)\n",
    "svc_clf_recall = recall_score(titanic_train_labels, svm_clf_pred)\n",
    "svc_clf_accuracy = accuracy_score(titanic_train_labels, svm_clf_pred)\n",
    "svc_clf_AUC = roc_auc_score(titanic_train_labels, svm_clf_scores)\n"
   ]
  },
  {
   "cell_type": "code",
   "execution_count": 33,
   "id": "8aad70d2",
   "metadata": {},
   "outputs": [
    {
     "data": {
      "image/png": "[encoded data removed]",
      "text/plain": [
       "<Figure size 720x360 with 1 Axes>"
      ]
     },
     "metadata": {
      "needs_background": "light"
     },
     "output_type": "display_data"
    }
   ],
   "source": [
    "sgd_clf_metrics = {\"Precision\" : sgd_clf_precision, \"Recall\" : sgd_clf_recall, \"Accuracy\" : sgd_clf_accuracy, \"AUC\" : sgd_clf_AUC}\n",
    "forest_clf_metrics = {\"Precision\" : forest_clf_precision, \"Recall\" : forest_clf_recall, \"Accuracy\" : forest_clf_accuracy, \"AUC\" : forest_clf_AUC}\n",
    "svc_clf_metrics = {\"Precision\" : svc_clf_precision, \"Recall\" : svc_clf_recall, \"Accuracy\" : svc_clf_accuracy, \"AUC\" : svc_clf_AUC}\n",
    "\n",
    "clf_metrics = {}\n",
    "clf_metrics[\"SGD\"] = sgd_clf_metrics\n",
    "clf_metrics[\"Random Forest\"] = forest_clf_metrics\n",
    "clf_metrics[\"SVC\"] = svc_clf_metrics\n",
    "\n",
    "clf_metrics_df = pd.DataFrame(clf_metrics)\n",
    "\n",
    "clf_metrics_df.plot(kind = \"bar\", figsize = (10,5))\n",
    "plt.title(\"SGD vs Random Forest vs SVC\")\n",
    "plt.legend([\"SGD\", \"Random Forest\", \"SVC\"], loc='lower left',  prop={'size': 8})\n",
    "plt.xticks(rotation=30, horizontalalignment=\"center\")\n",
    "plt.show()"
   ]
  },
  {
   "cell_type": "markdown",
   "id": "0022e91c",
   "metadata": {},
   "source": [
    "The AUC scores for all the classifiers are quite close at just above 0.80. <br> \n",
    "The SVM classifier has the highest precision and accuracy. The classifier seems to be the best at correctly predicting surviving passengers most of the time, and also the best at  predicting actual outcomes. <br>\n",
    "Also to note all classifiers have a higher precision score than recall score with varying differences. This would mean all classifiers have a greater emphasis on reducing false positives and correctly predicting surviving passengers."
   ]
  },
  {
   "cell_type": "code",
   "execution_count": 34,
   "id": "e4d9b69e",
   "metadata": {},
   "outputs": [],
   "source": [
    "def plot_precision_recall_vs_threshold(classifier, precisions, recalls, thresholds):\n",
    "    plt.plot(thresholds, precisions[:-1], \"b--\", label = \"Precision\", c = \"g\")\n",
    "    plt.plot(thresholds, recalls[:-1], \"b--\", label = \"Recall\", c = \"r\")\n",
    "    plt.legend([\"Precision\",\"Recall\"], loc='lower left',  prop={'size': 8})\n",
    "    plt.xlabel(\"Thresholds\")\n",
    "    plt.ylabel(\"Score\")\n",
    "    plt.title(\"{} Precision/Recall Scores vs Thresholds\".format(classifier))"
   ]
  },
  {
   "cell_type": "code",
   "execution_count": 35,
   "id": "e5e86b2a",
   "metadata": {},
   "outputs": [
    {
     "name": "stderr",
     "output_type": "stream",
     "text": [
      "C:\\Users\\angus\\Anaconda3\\lib\\site-packages\\ipykernel_launcher.py:2: UserWarning: color is redundantly defined by the 'color' keyword argument and the fmt string \"b--\" (-> color='b'). The keyword argument will take precedence.\n",
      "  \n",
      "C:\\Users\\angus\\Anaconda3\\lib\\site-packages\\ipykernel_launcher.py:3: UserWarning: color is redundantly defined by the 'color' keyword argument and the fmt string \"b--\" (-> color='b'). The keyword argument will take precedence.\n",
      "  This is separate from the ipykernel package so we can avoid doing imports until\n"
     ]
    },
    {
     "data": {
      "image/png": "[encoded data removed]",
      "text/plain": [
       "<Figure size 432x288 with 1 Axes>"
      ]
     },
     "metadata": {
      "needs_background": "light"
     },
     "output_type": "display_data"
    }
   ],
   "source": [
    "precisions, recalls, thresholds = precision_recall_curve(titanic_train_labels, svm_clf_scores)\n",
    "plot_precision_recall_vs_threshold(\"SVM Classifier\", precisions, recalls, thresholds)\n",
    "plt.show()"
   ]
  },
  {
   "cell_type": "markdown",
   "id": "3aa4bd5c",
   "metadata": {},
   "source": [
    "Plotting the SVM Classifier's precision/recall scores for different thresholds, we can see that the precision score is greater than the recall score at the default threshold of 0 <b>\n",
    "\n",
    "As the threshold increases, the precision score generall increases while the recall score generally decreases"
   ]
  },
  {
   "cell_type": "code",
   "execution_count": null,
   "id": "6bc8aed2",
   "metadata": {},
   "outputs": [],
   "source": []
  },
  {
   "cell_type": "code",
   "execution_count": null,
   "id": "31ea66e7",
   "metadata": {},
   "outputs": [],
   "source": []
  }
 ],
 "metadata": {
  "kernelspec": {
   "display_name": "Python 3 (ipykernel)",
   "language": "python",
   "name": "python3"
  },
  "language_info": {
   "codemirror_mode": {
    "name": "ipython",
    "version": 3
   },
   "file_extension": ".py",
   "mimetype": "text/x-python",
   "name": "python",
   "nbconvert_exporter": "python",
   "pygments_lexer": "ipython3",
   "version": "3.7.11"
  }
 },
 "nbformat": 4,
 "nbformat_minor": 5
}
